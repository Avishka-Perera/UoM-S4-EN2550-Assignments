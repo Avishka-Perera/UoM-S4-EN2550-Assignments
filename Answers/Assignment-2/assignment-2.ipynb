{
 "cells": [
  {
   "cell_type": "code",
   "execution_count": 3,
   "metadata": {},
   "outputs": [],
   "source": [
    "import numpy as np\n",
    "from scipy.optimize import minimize\n",
    "from scipy import linalg\n",
    "import matplotlib.pyplot as plt\n",
    "import cv2 as cv"
   ]
  },
  {
   "cell_type": "markdown",
   "metadata": {},
   "source": [
    "# Q1\n",
    "## Input data"
   ]
  },
  {
   "cell_type": "code",
   "execution_count": 69,
   "metadata": {},
   "outputs": [],
   "source": [
    "def plotPoints(points):\n",
    "    _, ax = plt.subplots(figsize=(6,6))\n",
    "    ax.set_aspect('equal')\n",
    "    ax.scatter(points[:,0],points[:,1])\n",
    "    plt.show()"
   ]
  },
  {
   "cell_type": "code",
   "execution_count": 70,
   "metadata": {},
   "outputs": [
    {
     "data": {
      "image/png": "[encoded data removed]",
      "text/plain": [
       "<Figure size 432x432 with 1 Axes>"
      ]
     },
     "metadata": {
      "needs_background": "light"
     },
     "output_type": "display_data"
    }
   ],
   "source": [
    "N = 100\n",
    "half_n = N//2\n",
    "r = 10\n",
    "s = r/16\n",
    "np.random.seed(0)\n",
    "t = np.random.uniform(0, 2*np.pi, half_n)\n",
    "n = s*np.random.randn(half_n)\n",
    "x, y = (r+n)*np.cos(t), (r+n)*np.sin(t)\n",
    "X_circ = np.hstack((x.reshape(half_n, 1), y.reshape(half_n, 1)))\n",
    "m, b = -1, 2\n",
    "x = np.linspace(-12, 12, half_n)\n",
    "y = m*x + b + s*np.random.randn(half_n)\n",
    "X_line = np.hstack((x.reshape(half_n, 1), y.reshape(half_n, 1)))\n",
    "X = np.vstack((X_circ, X_line))\n",
    "\n",
    "plotPoints(X)"
   ]
  },
  {
   "cell_type": "markdown",
   "metadata": {},
   "source": [
    "## RANSAC"
   ]
  },
  {
   "cell_type": "code",
   "execution_count": 109,
   "metadata": {},
   "outputs": [],
   "source": [
    "def findCircle(points, log=False) :\n",
    "      # Finds the radius and the center of a circle when three points are given\n",
    "      # \n",
    "      # Returns:\n",
    "      # 1. r: radius\n",
    "      # 2. h: x-cordinate of the center\n",
    "      # 3. k: y-cordinate of the center\n",
    "      # \n",
    "      \n",
    "      assert points.shape == (3,2)\n",
    "      x1, y1 = points[0][0], points[0][1]\n",
    "      x2, y2 = points[1][0], points[1][1]\n",
    "      x3, y3 = points[2][0], points[2][1]\n",
    "\n",
    "      xc1, yc1 = (x1+x2)/2, (y1+y2)/2\n",
    "      mc1 = 0\n",
    "      if y2 == y1:\n",
    "            mc1 = float('inf')\n",
    "      else:\n",
    "            mc1 = (x1-x2)/(y2-y1)\n",
    "      xc2, yc2 = (x3+x2)/2, (y3+y2)/2\n",
    "      mc2 = 0\n",
    "      if y3 == y2:\n",
    "            mc2 = float('inf')\n",
    "      else:\n",
    "            mc2 = (x2-x3)/(y3-y2)\n",
    "\n",
    "      h = (xc1*mc1-xc2*mc2+yc2-yc1)/(mc1-mc2)\n",
    "      k = (yc1*mc2-yc2*mc1+(xc2-xc1)*mc1*mc2)/(mc2-mc1)\n",
    "      r = np.sqrt((h-x1)**2+(k-y1)**2)\n",
    "      \n",
    "\n",
    "      return r, h, k"
   ]
  },
  {
   "cell_type": "code",
   "execution_count": 122,
   "metadata": {},
   "outputs": [],
   "source": [
    "def findInliers(points, r, h, k, threshold=2.0):\n",
    "    distances = np.sqrt((points[:,0]-h)**2+(points[:,1]-k)**2)\n",
    "    inlier_indices = np.array(np.abs(distances-r)<threshold)\n",
    "    inliers = points[inlier_indices]\n",
    "\n",
    "    return inliers\n"
   ]
  },
  {
   "cell_type": "code",
   "execution_count": 151,
   "metadata": {},
   "outputs": [],
   "source": [
    "def plotCircle(ax, r,h,k, color=None, label=None):\n",
    "    t = np.linspace(0, 2*np.pi, 50)\n",
    "    x, y = r*np.cos(t)+h, r*np.sin(t)+k\n",
    "    ax.plot(x, y, color=color, label=label)"
   ]
  },
  {
   "cell_type": "code",
   "execution_count": 148,
   "metadata": {},
   "outputs": [],
   "source": [
    "def findAndPlotCircle(all_points, selected_points):\n",
    "\n",
    "    r, h, k = findCircle(selected_points)\n",
    "    inliers = findInliers(all_points, r, h, k)\n",
    "    inlier_count = inliers.size\n",
    "    print(\"Inlier count: \", inlier_count)\n",
    "\n",
    "    _, ax = plt.subplots(figsize=(6,6))\n",
    "    ax.set_aspect('equal')\n",
    "    ax.scatter(all_points[:,0],all_points[:,1])\n",
    "    ax.scatter(inliers[:,0],inliers[:,1])\n",
    "    ax.scatter(selected_points[:,0],selected_points[:,1], color=\"red\")\n",
    "    \n",
    "    plotCircle(ax, r,h,k)\n",
    "    \n",
    "    plt.axis('off')\n",
    "\n",
    "    plt.show()\n",
    "    "
   ]
  },
  {
   "cell_type": "code",
   "execution_count": 149,
   "metadata": {},
   "outputs": [
    {
     "name": "stdout",
     "output_type": "stream",
     "text": [
      "Inlier count:  128\n"
     ]
    },
    {
     "data": {
      "image/png": "[encoded data removed]",
      "text/plain": [
       "<Figure size 432x432 with 1 Axes>"
      ]
     },
     "metadata": {
      "needs_background": "light"
     },
     "output_type": "display_data"
    }
   ],
   "source": [
    "sample_indices = np.random.randint(0, X.shape[0], 3)\n",
    "samples = X[sample_indices]\n",
    "findAndPlotCircle(X, samples)"
   ]
  },
  {
   "cell_type": "markdown",
   "metadata": {},
   "source": [
    "Outlier ratio is 0.5 (slightly less because the line overlaps with the circle). So let us consider it as 0.45"
   ]
  },
  {
   "cell_type": "code",
   "execution_count": 168,
   "metadata": {},
   "outputs": [
    {
     "name": "stderr",
     "output_type": "stream",
     "text": [
      "C:\\Users\\Avishka\\AppData\\Local\\Temp\\ipykernel_21136\\3728866632.py:28: RuntimeWarning: invalid value encountered in double_scalars\n",
      "  h = (xc1*mc1-xc2*mc2+yc2-yc1)/(mc1-mc2)\n",
      "C:\\Users\\Avishka\\AppData\\Local\\Temp\\ipykernel_21136\\3728866632.py:29: RuntimeWarning: invalid value encountered in double_scalars\n",
      "  k = (yc1*mc2-yc2*mc1+(xc2-xc1)*mc1*mc2)/(mc2-mc1)\n"
     ]
    },
    {
     "data": {
      "image/png": "[encoded data removed]",
      "text/plain": [
       "<Figure size 576x576 with 1 Axes>"
      ]
     },
     "metadata": {
      "needs_background": "light"
     },
     "output_type": "display_data"
    }
   ],
   "source": [
    "e = 0.45\n",
    "p = 0.99\n",
    "s = 3\n",
    "d = 60\n",
    "t = 0.48\n",
    "\n",
    "N = np.log(1-p)/np.log(1-(1-e)**s)*10\n",
    "potential_circles = []\n",
    "best_fit_index = 0\n",
    "max_inlier_count = 0\n",
    "\n",
    "for _ in range(int(N)):\n",
    "    sample_indices = np.random.randint(0, X.shape[0], 3)\n",
    "    samples = X[sample_indices]\n",
    "    r, h, k = findCircle(samples)\n",
    "    inliers = findInliers(X, r, h, k, t)\n",
    "    inlier_count = inliers.size\n",
    "    if inlier_count > d:\n",
    "        potential_circles.append({\"circle\": (r,h,k), \"inlier_count\": inlier_count, \"samples\": samples, \"inliers\": inliers})\n",
    "        if inlier_count > max_inlier_count:\n",
    "            max_inlier_count = inlier_count\n",
    "            best_fit_index = potential_circles.__len__()-1\n",
    "\n",
    "_, ax = plt.subplots(figsize=(8,8))\n",
    "ax.set_aspect(\"equal\")\n",
    "ax.scatter(X[:,0], X[:,1])\n",
    "\n",
    "for i, found_circle in enumerate(potential_circles):\n",
    "    if i == best_fit_index:\n",
    "        inliers = found_circle[\"inliers\"]\n",
    "        ax.scatter(inliers[:,0], inliers[:,1], color=\"gold\", label=\"Inliers\")\n",
    "        samples = found_circle[\"samples\"]\n",
    "        ax.scatter(samples[:,0], samples[:,1], color=\"red\", label=\"Best sample\")\n",
    "        r,h,k = found_circle[\"circle\"]\n",
    "        plotCircle(ax, r,h,k, \"blue\", \"Best sample\")\n",
    "    else:\n",
    "        r,h,k = found_circle[\"circle\"]\n",
    "        plotCircle(ax, r,h,k, \"purple\", \"RANSAC\")\n",
    "\n",
    "\n",
    "plt.legend()\n",
    "plt.show()\n"
   ]
  },
  {
   "cell_type": "code",
   "execution_count": 131,
   "metadata": {},
   "outputs": [],
   "source": [
    "dic = {\"a\":1, \"b\":5}"
   ]
  },
  {
   "cell_type": "code",
   "execution_count": 132,
   "metadata": {},
   "outputs": [
    {
     "data": {
      "text/plain": [
       "2"
      ]
     },
     "execution_count": 132,
     "metadata": {},
     "output_type": "execute_result"
    }
   ],
   "source": [
    "dic.__len__()"
   ]
  },
  {
   "cell_type": "markdown",
   "metadata": {},
   "source": [
    "## Other methods"
   ]
  },
  {
   "cell_type": "code",
   "execution_count": 55,
   "metadata": {},
   "outputs": [],
   "source": [
    "def fitCircleThreshold(points, radius_threshold=2, center_stride=1, radius_step=1):\n",
    "    assert center_stride >= 1\n",
    "\n",
    "    x_vals = points[:,0]\n",
    "    y_vals = points[:,1]\n",
    "    x_min = x_vals.min()\n",
    "    x_max = x_vals.max()\n",
    "    y_min = y_vals.min()\n",
    "    y_max = y_vals.max()\n",
    "    print(x_min, x_max, y_min, y_max)\n",
    "\n",
    "    # iterate over all points\n",
    "    center_x, center_y, radius = 0, 0, 0\n",
    "    max_inlier_count = 0\n",
    "    for i in np.arange(x_min, x_max+center_stride, center_stride):\n",
    "        for j in np.arange(y_min, y_max+center_stride, center_stride):\n",
    "            distances = np.sqrt((points[:,0]-1)**2 + (points[:,1]-1)**2)\n",
    "            radius_max = distances.max()\n",
    "            for r in np.arange(0, radius_max+radius_step, radius_step):\n",
    "                inliers = np.array(np.abs(distances-r)<radius_threshold)\n",
    "                inlier_count = np.count_nonzero(inliers)\n",
    "                # print(i, j, r, inlier_count)\n",
    "                if inlier_count > max_inlier_count:\n",
    "                    # print(\"updated\")\n",
    "                    max_inlier_count = inlier_count\n",
    "                    center_x, center_y, radius = i, j, r\n",
    "\n",
    "    return center_x, center_y, radius"
   ]
  },
  {
   "cell_type": "code",
   "execution_count": 65,
   "metadata": {},
   "outputs": [],
   "source": [
    "def fitCircleError(points, center_stride=1, radius_step=1):\n",
    "    assert center_stride >= 1\n",
    "\n",
    "    x_vals = points[:,0]\n",
    "    y_vals = points[:,1]\n",
    "    x_min = x_vals.min()\n",
    "    x_max = x_vals.max()\n",
    "    y_min = y_vals.min()\n",
    "    y_max = y_vals.max()\n",
    "    print(x_min, x_max, y_min, y_max)\n",
    "\n",
    "    # iterate over all points\n",
    "    center_x, center_y, radius = 0, 0, 0\n",
    "    min_error = float('inf')\n",
    "    for i in np.arange(x_min, x_max+center_stride, center_stride):\n",
    "        for j in np.arange(y_min, y_max+center_stride, center_stride):\n",
    "            distances = np.sqrt((points[:,0]-1)**2 + (points[:,1]-1)**2)\n",
    "            radius_max = distances.max()\n",
    "            for r in np.arange(0, radius_max+radius_step, radius_step):\n",
    "                error = np.sum(np.abs(distances-r))\n",
    "                # print(i, j, r, inlier_count)\n",
    "                if error < min_error:\n",
    "                    # print(\"updated\")\n",
    "                    min_error = error\n",
    "                    center_x, center_y, radius = i, j, r\n",
    "\n",
    "    return center_x, center_y, radius"
   ]
  },
  {
   "cell_type": "code",
   "execution_count": 66,
   "metadata": {},
   "outputs": [
    {
     "name": "stdout",
     "output_type": "stream",
     "text": [
      "-12.0 12.0 -10.951943348417196 14.130171861298038\n",
      "-12.0 -10.951943348417196 10.0\n",
      "-12.0 12.0 -10.951943348417196 14.130171861298038\n",
      "-12.0 -10.951943348417196 10.0\n"
     ]
    }
   ],
   "source": [
    "center_x, center_y, radius = fitCircleError(X)\n",
    "print(center_x, center_y, radius)\n",
    "center_x, center_y, radius = fitCircleThreshold(X)\n",
    "print(center_x, center_y, radius)\n"
   ]
  }
 ],
 "metadata": {
  "interpreter": {
   "hash": "15682651e7d0038ad13e2fba1bd16b3106a0529e8bbcb323503f89b7eee1bc35"
  },
  "kernelspec": {
   "display_name": "Python 3.10.4 ('en2550')",
   "language": "python",
   "name": "python3"
  },
  "language_info": {
   "codemirror_mode": {
    "name": "ipython",
    "version": 3
   },
   "file_extension": ".py",
   "mimetype": "text/x-python",
   "name": "python",
   "nbconvert_exporter": "python",
   "pygments_lexer": "ipython3",
   "version": "3.10.4"
  },
  "orig_nbformat": 4
 },
 "nbformat": 4,
 "nbformat_minor": 2
}
