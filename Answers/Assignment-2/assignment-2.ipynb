{
 "cells": [
  {
   "cell_type": "code",
   "execution_count": 3,
   "metadata": {},
   "outputs": [],
   "source": [
    "import numpy as np\n",
    "from scipy.optimize import minimize\n",
    "from scipy import linalg\n",
    "import matplotlib.pyplot as plt"
   ]
  },
  {
   "cell_type": "code",
   "execution_count": 11,
   "metadata": {},
   "outputs": [
    {
     "data": {
      "image/png": "[encoded data removed]",
      "text/plain": [
       "<Figure size 432x432 with 1 Axes>"
      ]
     },
     "metadata": {
      "needs_background": "light"
     },
     "output_type": "display_data"
    }
   ],
   "source": [
    "N = 100\n",
    "half_n = N//2\n",
    "r = 10\n",
    "s = r/16\n",
    "np.random.seed(0)\n",
    "t = np.random.uniform(0, 2*np.pi, half_n)\n",
    "n = s*np.random.randn(half_n)\n",
    "x, y = (r+n)*np.cos(t), (r+n)*np.sin(t)\n",
    "X_circ = np.hstack((x.reshape(half_n, 1), y.reshape(half_n, 1)))\n",
    "m, b = -1, 2\n",
    "x = np.linspace(-12, 12, half_n)\n",
    "y = m*x + b + s*np.random.randn(half_n)\n",
    "X_line = np.hstack((x.reshape(half_n, 1), y.reshape(half_n, 1)))\n",
    "X = np.vstack((X_circ, X_line))\n",
    "\n",
    "_, ax = plt.subplots(figsize=(6,6))\n",
    "ax.set_aspect('equal')\n",
    "ax.scatter(X[:,0],X[:,1])\n",
    "\n",
    "plt.show()"
   ]
  },
  {
   "cell_type": "code",
   "execution_count": null,
   "metadata": {},
   "outputs": [],
   "source": []
  }
 ],
 "metadata": {
  "interpreter": {
   "hash": "15682651e7d0038ad13e2fba1bd16b3106a0529e8bbcb323503f89b7eee1bc35"
  },
  "kernelspec": {
   "display_name": "Python 3.10.4 ('en2550')",
   "language": "python",
   "name": "python3"
  },
  "language_info": {
   "codemirror_mode": {
    "name": "ipython",
    "version": 3
   },
   "file_extension": ".py",
   "mimetype": "text/x-python",
   "name": "python",
   "nbconvert_exporter": "python",
   "pygments_lexer": "ipython3",
   "version": "3.10.4"
  },
  "orig_nbformat": 4
 },
 "nbformat": 4,
 "nbformat_minor": 2
}
